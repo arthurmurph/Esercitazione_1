{
  "nbformat": 4,
  "nbformat_minor": 0,
  "metadata": {
    "colab": {
      "name": "Lab03.ipynb",
      "provenance": [],
      "collapsed_sections": [],
      "authorship_tag": "ABX9TyNDNpYc/09+dUnPTFuL7kFe",
      "include_colab_link": true
    },
    "kernelspec": {
      "name": "python3",
      "display_name": "Python 3"
    },
    "language_info": {
      "name": "python"
    }
  },
  "cells": [
    {
      "cell_type": "markdown",
      "metadata": {
        "id": "view-in-github",
        "colab_type": "text"
      },
      "source": [
        "<a href=\"https://colab.research.google.com/github/arthurmurph/Esercitazione_1/blob/main/Lab03.ipynb\" target=\"_parent\"><img src=\"https://colab.research.google.com/assets/colab-badge.svg\" alt=\"Open In Colab\"/></a>"
      ]
    },
    {
      "cell_type": "code",
      "metadata": {
        "id": "p8Jk7nHSSZtJ"
      },
      "source": [
        ""
      ],
      "execution_count": null,
      "outputs": []
    },
    {
      "cell_type": "markdown",
      "metadata": {
        "id": "FFo_CkKLSbmB"
      },
      "source": [
        "Parte 3"
      ]
    },
    {
      "cell_type": "code",
      "metadata": {
        "id": "EK_SBQYOSdmZ",
        "colab": {
          "base_uri": "https://localhost:8080/"
        },
        "outputId": "6905c578-84d7-4b8a-ad9b-46fbebd8de4c"
      },
      "source": [
        "import numpy as np\n",
        "\n",
        "#creiamo una funzione che simula un lancio\n",
        "def lancio(dice):\n",
        "  return dice[np.random.randint(0,6)]\n",
        "\n",
        "#dizionario\n",
        "dict1 = {'Alice':20, 'Bob':20, 'Charlie':20, 'Center':0}\n",
        "#dado\n",
        "dice=['C','L','R','.','.','.']\n",
        "\n",
        "\n",
        "#regole\n",
        "def check(dict1, k, rand):\n",
        "  keys=list(dict1.keys())\n",
        "  if (rand=='C'):\n",
        "    dict1[keys[k]]-=1\n",
        "    dict1['Center']+=1\n",
        "  elif (rand=='L'):\n",
        "    dict1[keys[k]]-=1\n",
        "    dict1[keys[(k-1)%3]]+=1\n",
        "  elif (rand=='R'):\n",
        "    dict1[keys[k]]-=1\n",
        "    dict1[keys[(k+1)%3]]+=1\n",
        "  elif (rand=='.'):\n",
        "    dict1[keys[k]]=dict1[keys[k]]\n",
        "  return dict1\n",
        "\n",
        "#controllo per check\n",
        "#dict1=check(dict1,0,'L')\n",
        "#print(dict1)\n",
        "\n",
        "#funzione per round\n",
        "def round(dict1, names, dice):\n",
        "  #numero di giocatori\n",
        "  for i in range(3):\n",
        "    if (dict1[names[i]]>=3):#regola 1\n",
        "      for k in range(3):\n",
        "        dict1=check(dict1,i,lancio(dice))\n",
        "    elif (dict1[names[i]]==2):#regola 2\n",
        "      for k in range(2):\n",
        "        dict1=check(dict1,i,lancio(dice))\n",
        "    elif (dict1[names[i]]==1):#regola 3\n",
        "      dict1=check(dict1,i,lancio(dice))\n",
        "    elif (dict1[names[i]]==0):#regola 4\n",
        "      dict1[names[i]]=0\n",
        "  #print(dict1)\n",
        "\n",
        "#funzione per il vincitore\n",
        "def winner(dict1, names):\n",
        "  count=0\n",
        "  for i in names:\n",
        "    if (dict1[i]==0):\n",
        "      count+=1\n",
        "  if(count==2):\n",
        "    return 1\n",
        "\n",
        "#simuliamo un round per ogni giocatore\n",
        "names=['Alice','Bob','Charlie']#nomi dei giocatori\n",
        "conteggi=[]\n",
        "#print(dict2)\n",
        "\n",
        "#loop sui giochi\n",
        "for j in range(2000):\n",
        "  dict1={'Alice':20, 'Bob':20, 'Charlie':20, 'Center':0}\n",
        "#loop sui round\n",
        "  for n in range(100):\n",
        "    round(dict1,names,dice)\n",
        "    c=winner(dict1,names)\n",
        "    if(c==1):\n",
        "      #print(\"Sono serviti \",n+1,\" round.\")\n",
        "      conteggi.append(n+1)\n",
        "      break\n",
        "print(conteggi)\n"
      ],
      "execution_count": 26,
      "outputs": [
        {
          "output_type": "stream",
          "name": "stdout",
          "text": [
            "[36, 57, 41, 34, 42, 49, 44, 43, 41, 28, 40, 27, 35, 48, 27, 33, 44, 43, 36, 43, 43, 35, 42, 39, 51, 52, 41, 39, 45, 45, 41, 38, 37, 48, 45, 48, 42, 40, 45, 43, 36, 41, 44, 44, 51, 35, 36, 31, 29, 51, 45, 44, 32, 43, 38, 43, 36, 40, 47, 46, 42, 41, 44, 45, 39, 52, 42, 55, 42, 31, 54, 39, 47, 44, 46, 49, 45, 35, 41, 42, 45, 48, 40, 41, 38, 46, 38, 30, 36, 45, 44, 39, 41, 42, 35, 45, 33, 38, 37, 47, 37, 42, 49, 43, 42, 38, 39, 48, 42, 47, 38, 32, 30, 50, 47, 44, 46, 32, 38, 46, 40, 33, 40, 35, 45, 45, 48, 48, 35, 40, 49, 29, 41, 36, 38, 35, 44, 45, 41, 36, 40, 50, 46, 39, 43, 38, 41, 34, 45, 44, 45, 34, 39, 57, 36, 35, 38, 45, 43, 40, 42, 37, 46, 47, 47, 38, 36, 45, 39, 41, 36, 41, 35, 52, 28, 43, 44, 46, 42, 35, 39, 53, 39, 40, 29, 36, 34, 32, 39, 39, 36, 53, 54, 37, 33, 46, 38, 48, 50, 45, 47, 33, 52, 41, 35, 42, 38, 33, 53, 41, 47, 39, 47, 44, 55, 38, 55, 45, 40, 41, 43, 51, 41, 44, 43, 39, 33, 35, 26, 39, 38, 34, 36, 42, 36, 29, 40, 53, 39, 41, 38, 54, 39, 43, 56, 42, 44, 33, 49, 50, 51, 33, 42, 41, 41, 40, 40, 46, 43, 38, 39, 43, 34, 45, 44, 33, 47, 47, 43, 33, 42, 42, 39, 54, 35, 35, 43, 50, 32, 48, 41, 50, 40, 46, 44, 53, 40, 45, 55, 41, 41, 40, 32, 34, 47, 47, 51, 49, 45, 41, 29, 38, 32, 42, 47, 46, 44, 54, 30, 45, 45, 25, 39, 31, 32, 49, 41, 51, 46, 56, 43, 40, 47, 29, 42, 36, 49, 41, 40, 42, 53, 43, 46, 46, 49, 29, 32, 42, 43, 31, 48, 31, 45, 42, 46, 47, 42, 39, 32, 41, 46, 39, 47, 37, 39, 43, 45, 36, 45, 42, 42, 45, 45, 42, 41, 41, 43, 50, 41, 40, 45, 45, 54, 43, 43, 39, 34, 38, 36, 35, 49, 34, 34, 31, 52, 50, 40, 53, 48, 35, 33, 49, 51, 37, 40, 48, 36, 29, 31, 44, 29, 44, 35, 33, 46, 47, 38, 44, 48, 45, 36, 46, 41, 50, 57, 32, 53, 27, 48, 41, 42, 40, 43, 38, 39, 43, 43, 40, 40, 28, 32, 39, 27, 43, 39, 33, 39, 41, 41, 52, 27, 51, 39, 50, 47, 40, 35, 48, 27, 43, 41, 55, 47, 33, 29, 40, 49, 43, 46, 49, 44, 32, 44, 54, 44, 43, 47, 41, 37, 41, 46, 45, 32, 47, 47, 50, 47, 49, 37, 39, 51, 46, 32, 44, 42, 48, 45, 41, 40, 41, 41, 40, 48, 37, 44, 35, 44, 38, 44, 38, 45, 38, 47, 30, 40, 37, 37, 46, 29, 47, 46, 36, 34, 35, 39, 49, 46, 40, 37, 44, 45, 51, 41, 38, 34, 41, 42, 43, 48, 27, 47, 43, 43, 45, 38, 38, 44, 38, 27, 43, 38, 41, 39, 31, 43, 40, 40, 37, 34, 50, 39, 49, 38, 53, 41, 48, 41, 39, 42, 46, 44, 38, 40, 44, 48, 38, 36, 40, 42, 42, 44, 49, 36, 46, 46, 51, 48, 58, 45, 38, 33, 45, 39, 42, 64, 48, 36, 37, 38, 37, 39, 37, 32, 48, 44, 55, 44, 38, 43, 46, 46, 45, 34, 35, 38, 43, 42, 33, 49, 51, 55, 52, 38, 40, 43, 42, 37, 38, 39, 47, 47, 26, 48, 46, 50, 34, 45, 33, 39, 30, 38, 36, 54, 47, 44, 34, 50, 31, 37, 45, 45, 46, 41, 42, 52, 35, 47, 49, 41, 50, 38, 32, 38, 37, 39, 45, 56, 47, 52, 41, 38, 40, 40, 54, 45, 38, 37, 45, 43, 35, 38, 40, 47, 47, 39, 36, 51, 34, 46, 41, 47, 34, 37, 38, 56, 50, 43, 51, 41, 40, 34, 36, 44, 39, 35, 40, 47, 45, 36, 42, 47, 43, 35, 32, 39, 37, 44, 44, 41, 32, 46, 41, 28, 46, 38, 37, 50, 45, 47, 48, 49, 40, 38, 48, 34, 41, 37, 47, 53, 48, 33, 53, 36, 43, 45, 43, 50, 42, 48, 38, 23, 46, 30, 46, 40, 53, 40, 41, 35, 44, 46, 34, 40, 49, 40, 44, 43, 53, 38, 45, 47, 52, 42, 55, 41, 48, 34, 52, 39, 38, 52, 37, 53, 38, 32, 42, 36, 49, 42, 54, 27, 45, 46, 37, 46, 51, 48, 32, 32, 43, 50, 36, 54, 35, 34, 47, 42, 36, 43, 29, 28, 40, 39, 39, 38, 42, 49, 41, 38, 39, 38, 52, 47, 34, 41, 28, 42, 40, 43, 36, 48, 45, 37, 51, 30, 36, 42, 35, 45, 45, 45, 53, 34, 48, 36, 50, 42, 46, 46, 46, 25, 37, 45, 47, 42, 41, 26, 46, 38, 35, 41, 41, 27, 38, 33, 41, 46, 38, 30, 48, 51, 41, 34, 30, 27, 51, 42, 44, 46, 50, 41, 49, 46, 41, 49, 45, 46, 41, 40, 50, 46, 37, 37, 35, 45, 52, 35, 37, 42, 40, 47, 42, 33, 39, 52, 43, 47, 42, 45, 34, 29, 35, 37, 47, 32, 38, 33, 41, 44, 50, 46, 47, 57, 39, 43, 34, 34, 44, 46, 28, 38, 32, 41, 44, 39, 45, 46, 43, 53, 39, 41, 34, 38, 37, 46, 37, 50, 45, 42, 36, 53, 47, 31, 38, 46, 29, 46, 49, 42, 34, 48, 39, 53, 50, 29, 44, 41, 44, 40, 36, 51, 39, 33, 41, 36, 55, 38, 52, 43, 41, 47, 51, 31, 43, 32, 41, 40, 50, 43, 40, 46, 29, 39, 53, 45, 34, 32, 40, 36, 37, 32, 24, 42, 42, 33, 41, 42, 41, 43, 44, 39, 37, 34, 42, 53, 43, 29, 47, 43, 50, 36, 43, 41, 44, 33, 52, 41, 40, 37, 41, 46, 39, 34, 56, 50, 48, 46, 51, 43, 30, 43, 48, 45, 46, 41, 47, 42, 45, 36, 47, 45, 28, 49, 40, 51, 35, 28, 42, 52, 45, 34, 50, 52, 45, 46, 50, 46, 46, 51, 47, 37, 35, 40, 42, 41, 37, 44, 41, 31, 51, 33, 32, 36, 34, 46, 41, 35, 39, 52, 43, 29, 46, 49, 47, 40, 34, 34, 42, 47, 39, 52, 40, 36, 42, 41, 45, 40, 37, 46, 44, 40, 33, 35, 37, 46, 36, 42, 33, 37, 52, 52, 53, 41, 35, 39, 38, 56, 38, 41, 36, 39, 47, 35, 44, 54, 42, 35, 51, 41, 50, 44, 32, 40, 42, 45, 43, 40, 45, 37, 61, 46, 47, 39, 41, 29, 44, 35, 32, 41, 43, 41, 38, 42, 29, 48, 47, 30, 46, 50, 36, 54, 46, 38, 46, 45, 43, 37, 45, 39, 46, 46, 47, 39, 41, 40, 47, 37, 46, 43, 30, 38, 42, 43, 37, 36, 39, 39, 47, 46, 38, 42, 48, 36, 33, 39, 44, 42, 38, 34, 37, 42, 48, 42, 39, 44, 36, 37, 53, 43, 42, 48, 35, 59, 36, 41, 48, 44, 33, 39, 42, 34, 33, 64, 34, 46, 40, 44, 40, 39, 32, 38, 48, 35, 38, 41, 43, 39, 35, 45, 49, 46, 29, 29, 36, 33, 28, 43, 44, 40, 49, 43, 40, 34, 38, 34, 38, 39, 44, 41, 34, 46, 37, 36, 44, 43, 35, 47, 34, 41, 36, 39, 46, 50, 34, 36, 41, 46, 44, 36, 46, 50, 42, 40, 40, 46, 44, 55, 51, 33, 40, 35, 39, 34, 36, 41, 48, 35, 54, 26, 44, 49, 33, 37, 37, 51, 39, 41, 43, 40, 26, 41, 36, 52, 45, 43, 46, 38, 38, 35, 47, 45, 44, 51, 33, 50, 40, 29, 42, 48, 30, 40, 42, 44, 43, 36, 41, 48, 42, 37, 47, 43, 51, 42, 45, 53, 32, 29, 35, 41, 38, 44, 43, 46, 44, 48, 39, 46, 36, 39, 35, 41, 47, 37, 41, 46, 38, 48, 45, 30, 32, 47, 47, 50, 38, 53, 29, 55, 52, 40, 54, 41, 46, 47, 49, 28, 31, 55, 38, 49, 50, 51, 48, 51, 49, 42, 41, 51, 33, 39, 38, 42, 41, 38, 30, 32, 37, 50, 50, 32, 37, 37, 37, 53, 46, 39, 43, 44, 36, 49, 46, 40, 32, 34, 48, 52, 38, 43, 39, 35, 54, 36, 45, 39, 46, 45, 40, 44, 51, 40, 52, 54, 32, 51, 46, 48, 43, 44, 47, 36, 53, 39, 50, 39, 43, 38, 47, 40, 35, 30, 41, 46, 42, 30, 43, 30, 34, 54, 37, 40, 39, 40, 53, 35, 42, 46, 35, 43, 42, 43, 45, 41, 35, 32, 49, 42, 45, 37, 41, 38, 48, 32, 43, 45, 39, 29, 36, 48, 46, 49, 50, 31, 47, 48, 48, 35, 45, 34, 49, 40, 45, 41, 41, 48, 52, 42, 46, 41, 41, 56, 40, 45, 37, 39, 51, 39, 43, 47, 28, 47, 39, 35, 47, 33, 41, 46, 35, 44, 35, 33, 39, 44, 39, 55, 35, 41, 50, 39, 45, 46, 33, 37, 43, 45, 45, 46, 40, 45, 53, 34, 52, 48, 48, 31, 42, 36, 43, 36, 45, 49, 46, 45, 39, 33, 48, 41, 43, 24, 42, 37, 44, 43, 38, 50, 28, 52, 44, 39, 47, 46, 44, 38, 30, 44, 48, 38, 42, 43, 39, 54, 48, 42, 45, 41, 46, 53, 45, 54, 35, 37, 36, 43, 46, 36, 42, 51, 30, 40, 48, 39, 52, 39, 51, 50, 46, 38, 42, 35, 40, 41, 30, 41, 37, 45, 35, 37, 42, 31, 50, 47, 47, 45, 28, 48, 54, 44, 43, 36, 36, 44, 36, 34, 39, 29, 33, 38, 38, 42, 46, 40, 49, 31, 50, 45, 42, 49, 44, 46, 45, 48, 43, 54, 34, 33, 49, 36, 47, 43, 44, 36, 40, 53, 37, 35, 48, 51, 46, 40, 34, 38, 47, 38, 38, 28, 55, 40, 41, 45, 40, 53, 29, 40, 36, 47, 41, 34, 47, 50, 50, 48, 47, 41, 55, 46, 41, 47, 50, 41, 50, 43, 48, 33, 42, 25, 47, 44, 38, 51, 41, 36, 53, 58, 53, 42, 45, 39, 39, 41, 27, 39, 45, 52, 42, 45, 42, 39, 34, 39, 37, 57, 43, 48, 32, 48, 44, 40, 49, 46, 46, 46, 45, 34, 42, 45, 37, 44, 43, 48, 39, 49, 46, 43, 40, 40, 33, 43, 39, 49, 38, 44, 42, 53, 50, 30, 39, 41, 36, 42, 40, 44, 31, 41, 43, 36, 42, 48, 46, 46, 34, 36, 32, 42, 40, 56, 49, 39, 48, 42, 40, 45, 44, 36, 48, 34, 56, 34, 45, 42, 31, 34, 34, 50, 35, 42, 45, 37, 38, 38, 37, 36, 33, 49, 45, 45, 44, 39, 26, 49, 43, 55, 31, 39, 34, 51, 52, 44, 45, 40, 39, 46, 35, 41, 39, 47, 54, 43, 42, 47, 48, 41, 38, 47, 33, 32, 42, 47, 44, 38, 45, 42, 37, 49, 36, 40, 35, 42, 38, 42, 37, 48, 44, 49, 57, 44, 47, 43, 41, 32, 41, 50, 48, 47, 46, 42, 40, 37, 42, 54, 47, 58, 44, 38, 45, 42, 46, 38, 43, 47, 53, 40, 35, 33, 37, 47, 37, 38, 39, 37, 48, 39, 29, 40, 45, 32, 36, 45, 54, 41, 42, 44, 35, 37, 37]\n"
          ]
        }
      ]
    },
    {
      "cell_type": "code",
      "metadata": {
        "colab": {
          "base_uri": "https://localhost:8080/",
          "height": 370
        },
        "id": "4aWWIKwQ69Mg",
        "outputId": "ff560e90-77e1-43b7-856e-b8bfdddcae95"
      },
      "source": [
        "import matplotlib.pyplot as plt\n",
        "plt.subplot(1,2,1)\n",
        "plt.hist(conteggi)\n",
        "c2=np.cumsum(conteggi)\n",
        "print(c2)\n",
        "plt.subplot(1,2,2)\n",
        "plt.hist(c2)"
      ],
      "execution_count": 39,
      "outputs": [
        {
          "output_type": "stream",
          "name": "stdout",
          "text": [
            "[   36    93   134 ... 80527 80564 80601]\n"
          ]
        },
        {
          "output_type": "execute_result",
          "data": {
            "text/plain": [
              "(array([196., 192., 194., 191., 195., 194., 196., 191., 191., 192.]),\n",
              " array([3.60000e+01, 8.09250e+03, 1.61490e+04, 2.42055e+04, 3.22620e+04,\n",
              "        4.03185e+04, 4.83750e+04, 5.64315e+04, 6.44880e+04, 7.25445e+04,\n",
              "        8.06010e+04]),\n",
              " <a list of 10 Patch objects>)"
            ]
          },
          "metadata": {},
          "execution_count": 39
        },
        {
          "output_type": "display_data",
          "data": {
            "image/png": "[encoded data removed]",
            "text/plain": [
              "<Figure size 432x288 with 2 Axes>"
            ]
          },
          "metadata": {
            "needs_background": "light"
          }
        }
      ]
    }
  ]
}